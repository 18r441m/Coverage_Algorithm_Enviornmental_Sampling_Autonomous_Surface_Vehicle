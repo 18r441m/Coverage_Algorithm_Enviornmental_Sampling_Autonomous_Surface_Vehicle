{
  "cells": [
    {
      "cell_type": "code",
      "execution_count": 2,
      "metadata": {
        "collapsed": false
      },
      "outputs": [],
      "source": [
        "\n",
        "%matplotlib inline"
      ]
    },
    {
      "cell_type": "code",
      "execution_count": 3,
      "metadata": {},
      "outputs": [],
      "source": [
        "import numpy as np\n",
        "\n",
        "import pandas as pd\n",
        "\n",
        "import sys\n",
        "sys.path.append(\"/home/jasonraiti/Documents/GitHub/USC_REU/Project_Files/Jasons_Functions/\")\n",
        "\n",
        "from skeleton_to_graph_from_array import * \n",
        "\n",
        "from open_or_show_image import * \n"
      ]
    },
    {
      "cell_type": "code",
      "execution_count": 4,
      "metadata": {},
      "outputs": [],
      "source": [
        "from postman_problems.solver import cpp\n",
        "from postman_problems.stats import calculate_postman_solution_stats\n",
        "\n"
      ]
    },
    {
      "cell_type": "code",
      "execution_count": 6,
      "metadata": {},
      "outputs": [
        {
          "name": "stdout",
          "output_type": "stream",
          "text": [
            "found image at :  ../CHINESE_POST_MAN_TEST/zigzag_full.png\n",
            "\n",
            "skeleton converted to graph\n",
            "\n"
          ]
        },
        {
          "data": {
            "text/plain": [
              "21"
            ]
          },
          "execution_count": 6,
          "metadata": {},
          "output_type": "execute_result"
        }
      ],
      "source": [
        "# path to image\n",
        "path = r'../CHINESE_POST_MAN_TEST/zigzag_full.png'\n",
        "image = open_image(path)\n",
        "\n",
        "graph = skeleton_to_graph_from_array(image)\n",
        "\n",
        "#write csv in proper format \n",
        "\n",
        "mission_file = open('test.csv', 'w')\n",
        "# mission_file.write(\"node1,node2,distance,required\\n\") # this could be used for rural post man \n",
        "mission_file.write(\"node1,node2,distance\\n\")"
      ]
    },
    {
      "cell_type": "code",
      "execution_count": 7,
      "metadata": {},
      "outputs": [
        {
          "name": "stdout",
          "output_type": "stream",
          "text": [
            "{'pts': array([[  7, 160]], dtype=int16), 'o': array([  7., 160.])}\n"
          ]
        }
      ],
      "source": [
        "nodes = graph.nodes()\n",
        "# print(nodes)\n",
        "\n",
        "print(nodes[0])\n",
        "\n",
        "for s,e in graph.edges():\n",
        "    output = str(s) + ',' + str(e) + ',' + str(graph[s][e]['weight']) + '\\n'\n",
        "    mission_file.write(output)\n",
        "    # print(s,e,graph[s][e]['weight'])\n",
        "mission_file.close()"
      ]
    },
    {
      "cell_type": "code",
      "execution_count": 19,
      "metadata": {},
      "outputs": [],
      "source": []
    },
    {
      "cell_type": "code",
      "execution_count": null,
      "metadata": {},
      "outputs": [],
      "source": [
        "# # find CPP solution\n",
        "# # circuit, graph = cpp(edgelist_filename='/home/jasonraiti/Documents/postman_problems/postman_problems/examples/sleeping_giant/edgelist_sleeping_giant.csv', start_node='D')\n",
        "# circuit, graph = cpp(edgelist_filename='/home/jasonraiti/Documents/postman_problems/postman_problems/examples/seven_bridges/edgelist_seven_bridges.csv', start_node='D')\n",
        "\n",
        "# # print solution route\n",
        "# for e in circuit:\n",
        "#     print(e)\n",
        "\n",
        "# # print solution summary stats\n",
        "# for k, v in calculate_postman_solution_stats(circuit).items():\n",
        "#     print(k, v)"
      ]
    }
  ],
  "metadata": {
    "interpreter": {
      "hash": "4a83a789b37a71bb416df83b70e7c64d3e14da3f8e2f22be6936c2e4ffec8d9a"
    },
    "kernelspec": {
      "display_name": "Python 3.8.5 64-bit ('3.8.5': pyenv)",
      "name": "python3"
    },
    "language_info": {
      "codemirror_mode": {
        "name": "ipython",
        "version": 3
      },
      "file_extension": ".py",
      "mimetype": "text/x-python",
      "name": "python",
      "nbconvert_exporter": "python",
      "pygments_lexer": "ipython3",
      "version": "3.8.5"
    }
  },
  "nbformat": 4,
  "nbformat_minor": 0
}