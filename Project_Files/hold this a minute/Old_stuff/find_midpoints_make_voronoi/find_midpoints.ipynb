{
  "cells": [
    {
      "cell_type": "code",
      "execution_count": 1,
      "metadata": {
        "collapsed": false
      },
      "outputs": [],
      "source": [
        "%matplotlib inline"
      ]
    },
    {
      "cell_type": "code",
      "execution_count": 2,
      "metadata": {
        "tags": []
      },
      "outputs": [],
      "source": [
        "import cv2\n",
        "import matplotlib.pyplot as plt\n",
        "import numpy as np\n",
        "from skimage.morphology import skeletonize\n",
        "from skimage import data\n",
        "import sknw\n",
        "import networkx as nx\n"
      ]
    },
    {
      "cell_type": "code",
      "execution_count": 3,
      "metadata": {},
      "outputs": [],
      "source": [
        "# zig zag definitions\n",
        "def drawline(p1,p2,image):\n",
        "    p1 = tuple(p1.astype(int).tolist()) #input is numpyfloat array\n",
        "    p2 = tuple(p2.astype(int).tolist()) # cv2.line needs tuple int inputs \n",
        "    color = (255, 255, 255) # color in BGR\n",
        "    thickness = 1 # line thickness  \n",
        "\n",
        "    #AND THEN FLIP THE  Y , X  FORMAT TO GRAPH IT CORRECTLY !!!!!! \n",
        "    start_point  = [p1[1],p1[0]]\n",
        "    end_point = [p2[1],p2[0]]\n",
        "\n",
        "    return(cv2.line(image, start_point, end_point, color, thickness))\n",
        "\n",
        "def open_image(path):\n",
        "    try: \n",
        "        image = cv2.imread(path, 0) # Reading an image in grayscale mode\n",
        "        print(\"found image at : \" , path)\n",
        "    except:\n",
        "        print(\"couldn't find image at : \", path)\n",
        "    return(image)\n",
        "\n",
        "def show_image(image):\n",
        "    plt.imshow(image, cmap='gray') #map the image to black and white, white representing the line \n",
        "    plt.show()\n",
        "    print(\"Plotted\")\n",
        "\n",
        "def zigzag(start_point,end_point,num_turns,zig_zag_size,image): #zigzagsize will scale the size of the zig zags\n",
        "    \n",
        "    #num turns must be greater than 2 \n",
        "    slope_vector = np.array([  end_point[0]- start_point[0] , end_point[1] - start_point[1] ]) # vector representation of slope here in format [y , x]\n",
        "    step_vector = slope_vector / (num_turns - 1) # partition total change inslope into steps to zig zag across and -1 because the number of turns will be one less than the number of partitions (also in format [y , x])\n",
        "    normalized_step_vector = step_vector/np.linalg.norm(step_vector) # here we are getting the normalized step_vector so we can use its direction and ignore its magnitude \n",
        "    zig_zag_size_vector = normalized_step_vector * zig_zag_size\n",
        "\n",
        "    for i in range(0,num_turns): \n",
        "        \n",
        "\n",
        "        # ctrl / to toggle commented areas \n",
        "        # if i%2 ==0: # set zig and zag values (with alternating directions)\n",
        "        #     zigzag = zig_zag_size_vector * np.array([1,-1])\n",
        "        # else:\n",
        "        #     zigzag =  zig_zag_size_vector * np.array([-1,1])\n",
        "\n",
        "        if i%2 ==0: # set zig and zag values (with alternating directions)\n",
        "            zigzag = [-zig_zag_size_vector[1], zig_zag_size_vector[0]]\n",
        "        else:\n",
        "            zigzag = [zig_zag_size_vector[1], -zig_zag_size_vector[0]]\n",
        "\n",
        "        if i == 0: #if i is start point\n",
        "            pt1 = start_point + step_vector*(i)\n",
        "            pt2 = start_point + step_vector*(i+1) + zigzag\n",
        "            try : image = drawline(pt1,pt2,image)\n",
        "            except : print(\"error zigging\")\n",
        "            pt_old = pt2 #save endpoint\n",
        "        elif i == num_turns-1: #elif i+1 is FINAL endpoint\n",
        "            pt1 = pt_old\n",
        "            pt2 = start_point + step_vector*(i) \n",
        "            try : image = drawline(pt1,pt2,image)\n",
        "            except : print(\"error zagging\")\n",
        "        else: #otherwise in the middle \n",
        "            pt1 = pt_old\n",
        "            pt2 = start_point + step_vector*(i+1) +zigzag\n",
        "            try : image = drawline(pt1,pt2,image)\n",
        "            except : print(\"error zig-zagging\")\n",
        "            pt_old =pt2 #save endpoint for next start  \n",
        "    #image = drawline(start_point,end_point,image) #this is just for error checking, draw a line between start and end points \n",
        "    #show_image(image)\n",
        "    return(image)"
      ]
    },
    {
      "cell_type": "code",
      "execution_count": 4,
      "metadata": {},
      "outputs": [],
      "source": [
        "#skeleton to graph definition\n",
        "\n",
        "def skeleton_to_graph(path):\n",
        "    try: img = cv2.imread(cv2.samples.findFile(path),0) # get img\n",
        "    except : print(\"can't find that image at\", path)\n",
        "    img = (255-img) \n",
        "    img = img > 127 #make bool \n",
        "    ske = skeletonize(~img).astype(np.uint16) # use sknw skeletonize \n",
        "    graph = sknw.build_sknw(ske) # build graph from skeleton\n",
        "    print(\"\\nskeleton converted to graph\\n\")\n",
        "    return graph\n"
      ]
    },
    {
      "source": [
        "\n",
        "# start HERE : to do : \n",
        "\n",
        "# first:fix the zig zag function as its not ziggin and zaggin right \n",
        "\n",
        "# then: iterate over the whole damn image\n",
        "\n",
        "# then: make the zig zag proportional to shiz weights \n",
        "\n",
        "# then make it so that it prints to a seperate image \n",
        "\n",
        "# then convert to coordinates for gps\n",
        "\n",
        "# then vroom \n"
      ],
      "cell_type": "code",
      "metadata": {},
      "execution_count": 5,
      "outputs": []
    },
    {
      "cell_type": "code",
      "execution_count": 6,
      "metadata": {},
      "outputs": [
        {
          "output_type": "stream",
          "name": "stdout",
          "text": [
            "can't find that image at ../Lake_Murray_Map_Skeletons/SE_corner_medial_axis.png\n"
          ]
        },
        {
          "output_type": "error",
          "ename": "UnboundLocalError",
          "evalue": "local variable 'img' referenced before assignment",
          "traceback": [
            "\u001b[0;31m---------------------------------------------------------------------------\u001b[0m",
            "\u001b[0;31mUnboundLocalError\u001b[0m                         Traceback (most recent call last)",
            "\u001b[0;32m<ipython-input-6-a078b1853087>\u001b[0m in \u001b[0;36m<module>\u001b[0;34m\u001b[0m\n\u001b[1;32m      1\u001b[0m \u001b[0mpath\u001b[0m \u001b[0;34m=\u001b[0m \u001b[0;34mr'../Lake_Murray_Map_Skeletons/SE_corner_medial_axis.png'\u001b[0m\u001b[0;34m\u001b[0m\u001b[0;34m\u001b[0m\u001b[0m\n\u001b[0;32m----> 2\u001b[0;31m \u001b[0mgraph\u001b[0m \u001b[0;34m=\u001b[0m \u001b[0mskeleton_to_graph\u001b[0m\u001b[0;34m(\u001b[0m\u001b[0mpath\u001b[0m\u001b[0;34m)\u001b[0m\u001b[0;34m\u001b[0m\u001b[0;34m\u001b[0m\u001b[0m\n\u001b[0m\u001b[1;32m      3\u001b[0m \u001b[0mimage\u001b[0m \u001b[0;34m=\u001b[0m \u001b[0mopen_image\u001b[0m\u001b[0;34m(\u001b[0m\u001b[0mpath\u001b[0m\u001b[0;34m)\u001b[0m \u001b[0;31m#start by opening the image, choose image in the function\u001b[0m\u001b[0;34m\u001b[0m\u001b[0;34m\u001b[0m\u001b[0m\n\u001b[1;32m      4\u001b[0m \u001b[0;34m\u001b[0m\u001b[0m\n\u001b[1;32m      5\u001b[0m \u001b[0;31m# draw image\u001b[0m\u001b[0;34m\u001b[0m\u001b[0;34m\u001b[0m\u001b[0;34m\u001b[0m\u001b[0m\n",
            "\u001b[0;32m<ipython-input-4-21c161cdbaa3>\u001b[0m in \u001b[0;36mskeleton_to_graph\u001b[0;34m(path)\u001b[0m\n\u001b[1;32m      4\u001b[0m     \u001b[0;32mtry\u001b[0m\u001b[0;34m:\u001b[0m \u001b[0mimg\u001b[0m \u001b[0;34m=\u001b[0m \u001b[0mcv2\u001b[0m\u001b[0;34m.\u001b[0m\u001b[0mimread\u001b[0m\u001b[0;34m(\u001b[0m\u001b[0mcv2\u001b[0m\u001b[0;34m.\u001b[0m\u001b[0msamples\u001b[0m\u001b[0;34m.\u001b[0m\u001b[0mfindFile\u001b[0m\u001b[0;34m(\u001b[0m\u001b[0mpath\u001b[0m\u001b[0;34m)\u001b[0m\u001b[0;34m,\u001b[0m\u001b[0;36m0\u001b[0m\u001b[0;34m)\u001b[0m \u001b[0;31m# get img\u001b[0m\u001b[0;34m\u001b[0m\u001b[0;34m\u001b[0m\u001b[0m\n\u001b[1;32m      5\u001b[0m     \u001b[0;32mexcept\u001b[0m \u001b[0;34m:\u001b[0m \u001b[0mprint\u001b[0m\u001b[0;34m(\u001b[0m\u001b[0;34m\"can't find that image at\"\u001b[0m\u001b[0;34m,\u001b[0m \u001b[0mpath\u001b[0m\u001b[0;34m)\u001b[0m\u001b[0;34m\u001b[0m\u001b[0;34m\u001b[0m\u001b[0m\n\u001b[0;32m----> 6\u001b[0;31m     \u001b[0mimg\u001b[0m \u001b[0;34m=\u001b[0m \u001b[0;34m(\u001b[0m\u001b[0;36m255\u001b[0m\u001b[0;34m-\u001b[0m\u001b[0mimg\u001b[0m\u001b[0;34m)\u001b[0m\u001b[0;34m\u001b[0m\u001b[0;34m\u001b[0m\u001b[0m\n\u001b[0m\u001b[1;32m      7\u001b[0m     \u001b[0mimg\u001b[0m \u001b[0;34m=\u001b[0m \u001b[0mimg\u001b[0m \u001b[0;34m>\u001b[0m \u001b[0;36m127\u001b[0m \u001b[0;31m#make bool\u001b[0m\u001b[0;34m\u001b[0m\u001b[0;34m\u001b[0m\u001b[0m\n\u001b[1;32m      8\u001b[0m     \u001b[0mske\u001b[0m \u001b[0;34m=\u001b[0m \u001b[0mskeletonize\u001b[0m\u001b[0;34m(\u001b[0m\u001b[0;34m~\u001b[0m\u001b[0mimg\u001b[0m\u001b[0;34m)\u001b[0m\u001b[0;34m.\u001b[0m\u001b[0mastype\u001b[0m\u001b[0;34m(\u001b[0m\u001b[0mnp\u001b[0m\u001b[0;34m.\u001b[0m\u001b[0muint16\u001b[0m\u001b[0;34m)\u001b[0m \u001b[0;31m# use sknw skeletonize\u001b[0m\u001b[0;34m\u001b[0m\u001b[0;34m\u001b[0m\u001b[0m\n",
            "\u001b[0;31mUnboundLocalError\u001b[0m: local variable 'img' referenced before assignment"
          ]
        }
      ],
      "source": [
        "\n",
        "path = r'../Lake_Murray_Map_Skeletons/SE_corner_medial_axis.png' \n",
        "graph = skeleton_to_graph(path) \n",
        "image = open_image(path) #start by opening the image, choose image in the function \n",
        "\n",
        "# draw image\n",
        "plt.imshow(image, cmap='gray')\n",
        "\n",
        "for (s,e) in graph.edges():\n",
        "    ps = graph[s][e]['pts']\n",
        "    plt.plot(ps[:,1], ps[:,0], 'green')\n",
        "\n",
        "# draw node by o\n",
        "nodes = graph.nodes()\n",
        "ps = np.array([nodes[i]['o'] for i in nodes])\n",
        "plt.plot(ps[:,1], ps[:,0], 'r.') # ps[0,1], ps[0,0] = x , y coordinates\n",
        "plt.savefig('skel_network_and_nodes.png')\n"
      ]
    },
    {
      "cell_type": "code",
      "execution_count": 7,
      "metadata": {},
      "outputs": [
        {
          "output_type": "stream",
          "name": "stdout",
          "text": [
            "can't find that image at ../Lake_Murray_Map_Skeletons/SE_corner_medial_axis.png\n"
          ]
        },
        {
          "output_type": "error",
          "ename": "UnboundLocalError",
          "evalue": "local variable 'img' referenced before assignment",
          "traceback": [
            "\u001b[0;31m---------------------------------------------------------------------------\u001b[0m",
            "\u001b[0;31mUnboundLocalError\u001b[0m                         Traceback (most recent call last)",
            "\u001b[0;32m<ipython-input-7-c2221ae360e8>\u001b[0m in \u001b[0;36m<module>\u001b[0;34m\u001b[0m\n\u001b[1;32m      1\u001b[0m \u001b[0;31m#FIND MIDPOINT\u001b[0m\u001b[0;34m\u001b[0m\u001b[0;34m\u001b[0m\u001b[0;34m\u001b[0m\u001b[0m\n\u001b[1;32m      2\u001b[0m \u001b[0mpath\u001b[0m \u001b[0;34m=\u001b[0m \u001b[0;34mr'../Lake_Murray_Map_Skeletons/SE_corner_medial_axis.png'\u001b[0m\u001b[0;34m\u001b[0m\u001b[0;34m\u001b[0m\u001b[0m\n\u001b[0;32m----> 3\u001b[0;31m \u001b[0mgraph\u001b[0m \u001b[0;34m=\u001b[0m \u001b[0mskeleton_to_graph\u001b[0m\u001b[0;34m(\u001b[0m\u001b[0mpath\u001b[0m\u001b[0;34m)\u001b[0m\u001b[0;34m\u001b[0m\u001b[0;34m\u001b[0m\u001b[0m\n\u001b[0m\u001b[1;32m      4\u001b[0m \u001b[0mimage\u001b[0m \u001b[0;34m=\u001b[0m \u001b[0mopen_image\u001b[0m\u001b[0;34m(\u001b[0m\u001b[0mpath\u001b[0m\u001b[0;34m)\u001b[0m \u001b[0;31m#start by opening the image, choose image in the function\u001b[0m\u001b[0;34m\u001b[0m\u001b[0;34m\u001b[0m\u001b[0m\n\u001b[1;32m      5\u001b[0m \u001b[0;34m\u001b[0m\u001b[0m\n",
            "\u001b[0;32m<ipython-input-4-21c161cdbaa3>\u001b[0m in \u001b[0;36mskeleton_to_graph\u001b[0;34m(path)\u001b[0m\n\u001b[1;32m      4\u001b[0m     \u001b[0;32mtry\u001b[0m\u001b[0;34m:\u001b[0m \u001b[0mimg\u001b[0m \u001b[0;34m=\u001b[0m \u001b[0mcv2\u001b[0m\u001b[0;34m.\u001b[0m\u001b[0mimread\u001b[0m\u001b[0;34m(\u001b[0m\u001b[0mcv2\u001b[0m\u001b[0;34m.\u001b[0m\u001b[0msamples\u001b[0m\u001b[0;34m.\u001b[0m\u001b[0mfindFile\u001b[0m\u001b[0;34m(\u001b[0m\u001b[0mpath\u001b[0m\u001b[0;34m)\u001b[0m\u001b[0;34m,\u001b[0m\u001b[0;36m0\u001b[0m\u001b[0;34m)\u001b[0m \u001b[0;31m# get img\u001b[0m\u001b[0;34m\u001b[0m\u001b[0;34m\u001b[0m\u001b[0m\n\u001b[1;32m      5\u001b[0m     \u001b[0;32mexcept\u001b[0m \u001b[0;34m:\u001b[0m \u001b[0mprint\u001b[0m\u001b[0;34m(\u001b[0m\u001b[0;34m\"can't find that image at\"\u001b[0m\u001b[0;34m,\u001b[0m \u001b[0mpath\u001b[0m\u001b[0;34m)\u001b[0m\u001b[0;34m\u001b[0m\u001b[0;34m\u001b[0m\u001b[0m\n\u001b[0;32m----> 6\u001b[0;31m     \u001b[0mimg\u001b[0m \u001b[0;34m=\u001b[0m \u001b[0;34m(\u001b[0m\u001b[0;36m255\u001b[0m\u001b[0;34m-\u001b[0m\u001b[0mimg\u001b[0m\u001b[0;34m)\u001b[0m\u001b[0;34m\u001b[0m\u001b[0;34m\u001b[0m\u001b[0m\n\u001b[0m\u001b[1;32m      7\u001b[0m     \u001b[0mimg\u001b[0m \u001b[0;34m=\u001b[0m \u001b[0mimg\u001b[0m \u001b[0;34m>\u001b[0m \u001b[0;36m127\u001b[0m \u001b[0;31m#make bool\u001b[0m\u001b[0;34m\u001b[0m\u001b[0;34m\u001b[0m\u001b[0m\n\u001b[1;32m      8\u001b[0m     \u001b[0mske\u001b[0m \u001b[0;34m=\u001b[0m \u001b[0mskeletonize\u001b[0m\u001b[0;34m(\u001b[0m\u001b[0;34m~\u001b[0m\u001b[0mimg\u001b[0m\u001b[0;34m)\u001b[0m\u001b[0;34m.\u001b[0m\u001b[0mastype\u001b[0m\u001b[0;34m(\u001b[0m\u001b[0mnp\u001b[0m\u001b[0;34m.\u001b[0m\u001b[0muint16\u001b[0m\u001b[0;34m)\u001b[0m \u001b[0;31m# use sknw skeletonize\u001b[0m\u001b[0;34m\u001b[0m\u001b[0;34m\u001b[0m\u001b[0m\n",
            "\u001b[0;31mUnboundLocalError\u001b[0m: local variable 'img' referenced before assignment"
          ]
        }
      ],
      "source": [
        "#FIND MIDPOINT\n",
        "path = r'../Lake_Murray_Map_Skeletons/SE_corner_medial_axis.png' \n",
        "graph = skeleton_to_graph(path)\n",
        "image = open_image(path) #start by opening the image, choose image in the function \n",
        "\n",
        "# draw image\n",
        "plt.imshow(image, cmap='gray')\n",
        "\n",
        "for (s,e) in graph.edges():\n",
        "    ps = graph[s][e]['pts']\n",
        "    plt.plot(ps[:,1], ps[:,0], 'green')\n",
        "\n",
        "#  ----------------------------------get and plot mid point here \n",
        "for (s,e) in graph.edges():\n",
        "    ps = graph[s][e]['pts']\n",
        "    \n",
        "    #print(len(ps))\n",
        "    if len(ps)%2 == 0:\n",
        "        midpoint = [ ps[int(len(ps)/2),1] , ps[int(len(ps)/2),0] ]\n",
        "        #print(int(len(ps)/2))\n",
        "    else:\n",
        "        midpoint = [ ps[int((len(ps)+1) /2),1] , ps[int((len(ps)+1) /2),0] ]\n",
        "        #print(int((len(ps)+1) /2))\n",
        "    print(len(ps),midpoint)\n",
        "    plt.plot(midpoint[0], midpoint[1], 'b.')\n",
        "\n",
        "#------------------------------------- finished\n",
        "\n",
        "# draw node by o\n",
        "nodes = graph.nodes()\n",
        "ps = np.array([nodes[i]['o'] for i in nodes])\n",
        "plt.plot(ps[:,1], ps[:,0], 'r.') # ps[0,1], ps[0,0] = x , y coordinates\n",
        "plt.savefig('skel_network_and_nodes.png')\n"
      ]
    },
    {
      "cell_type": "code",
      "execution_count": null,
      "metadata": {},
      "outputs": [],
      "source": [
        "# maybe add clause - if weight < 10 && endpoints != nodes: ignore"
      ]
    }
  ],
  "metadata": {
    "kernelspec": {
      "name": "python3",
      "display_name": "Python 3.8.5 64-bit ('3.8.5': pyenv)"
    },
    "language_info": {
      "codemirror_mode": {
        "name": "ipython",
        "version": 3
      },
      "file_extension": ".py",
      "mimetype": "text/x-python",
      "name": "python",
      "nbconvert_exporter": "python",
      "pygments_lexer": "ipython3",
      "version": "3.8.5"
    },
    "interpreter": {
      "hash": "4a83a789b37a71bb416df83b70e7c64d3e14da3f8e2f22be6936c2e4ffec8d9a"
    }
  },
  "nbformat": 4,
  "nbformat_minor": 0
}