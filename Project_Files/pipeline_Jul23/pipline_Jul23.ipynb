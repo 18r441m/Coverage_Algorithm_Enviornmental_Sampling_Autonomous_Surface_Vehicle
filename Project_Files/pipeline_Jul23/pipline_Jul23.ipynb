{
  "cells": [
    {
      "cell_type": "code",
      "execution_count": null,
      "metadata": {
        "collapsed": false
      },
      "outputs": [],
      "source": [
        "%matplotlib inline"
      ]
    },
    {
      "cell_type": "code",
      "execution_count": null,
      "metadata": {},
      "outputs": [],
      "source": [
        "import cv2 \n",
        "\n",
        "import sys\n",
        "sys.path.append(\"/home/jasonraiti/Documents/GitHub/USC_REU/Project_Files/Jasons_Functions/\")\n",
        "\n",
        "from erosion_dilation_from_array import * \n",
        "\n",
        "from jasons_skeletonize_from_array import * \n",
        "\n",
        "from trim_edges import * # new_array = trim_edges(path,weight_threshold)\n",
        "\n",
        "from erosion_dilation_from_array import *\n",
        "\n",
        "# from generate_waypoints import *\n",
        "\n",
        "from inverse_skeletonize_from_array import *\n",
        "\n",
        "from overlay_images import *\n",
        "\n",
        "from zig_zag_full_image_2 import *\n",
        "\n",
        "from write_chinese_post_man_csv import *\n",
        "\n",
        "from chinese_post_man import *\n",
        "\n",
        "\n"
      ]
    },
    {
      "cell_type": "code",
      "execution_count": null,
      "metadata": {},
      "outputs": [],
      "source": [
        "# erosion dilation \n",
        "# WARNING : important edge case is when your skeleton has a loop in it, this may mess up all of the algorithms pretty bad \n",
        "\n",
        "# path to image\n",
        "path = r'../MAPS/Map_originals/Ibrahim_Test/ibrahim_test_bw.png'\n",
        "image = open_image(path)\n",
        "option = 2 # 1 = erode first 2 = dialate first \n",
        "num_erosions = 4\n",
        "num_dilations = 4\n",
        "\n",
        "e_d_image  = erosion_dilation_from_array(image,option,num_erosions,num_dilations)\n",
        "\n",
        "cv2.imwrite('e_d_image.png', e_d_image)\n",
        "\n"
      ]
    },
    {
      "cell_type": "code",
      "execution_count": null,
      "metadata": {},
      "outputs": [],
      "source": [
        "# skeletonize \n",
        "med_axis , skeleton , skeleton_lee , thinned , thinned_partial = jasons_skeletonize_from_array(e_d_image)\n",
        "\n",
        "skeletons = [med_axis , skeleton , skeleton_lee , thinned]"
      ]
    },
    {
      "cell_type": "code",
      "execution_count": null,
      "metadata": {},
      "outputs": [],
      "source": [
        "#try and preprocess the skeletons a bit and trim edges\n",
        "trimmed_skeletons = []\n",
        "weight_threshold = 42\n",
        "for skel in skeletons:\n",
        "    \n",
        "    \n",
        "    # option = 2 # 1 = erode first 2 = dialate first \n",
        "    # num_erosions = 1\n",
        "    # num_dilations = 1\n",
        "\n",
        "    # skel  = erosion_dilation_from_array(skel,option,num_erosions,num_dilations)\n",
        "    # show_image(skel)\n",
        "    \n",
        "    cv.imwrite('temp_skel_img.png', skel)\n",
        "\n",
        "    new_array , new_image = trim_edges('temp_skel_img.png',weight_threshold)\n",
        "    trimmed_skeletons.append(new_image)"
      ]
    },
    {
      "cell_type": "code",
      "execution_count": null,
      "metadata": {},
      "outputs": [],
      "source": [
        "lotsa_inverse_skeletons = []\n",
        "#inverse skeletonize trimmed graphs \n",
        "for trim_skel in trimmed_skeletons:\n",
        "\n",
        "\n",
        "    med_axis , skeleton , skeleton_lee , thinned , thinned_partial = inverse_skeletonize_from_array(trim_skel)\n",
        "\n",
        "    inverse_skeletons = [med_axis , skeleton , skeleton_lee , thinned]\n",
        "\n",
        "    lotsa_inverse_skeletons.append(inverse_skeletons)\n",
        "# for i in range(0,len(lotsa_inverse_skeletons)):\n",
        "#     print(\"heres a skeleton\")\n",
        "#     show_image(trimmed_skeletons[i])\n",
        "\n",
        "#     # for inv_skel in skels:\n",
        "#     #     show_image(inv_skel)\n",
        "#     show_image(lotsa_inverse_skeletons[i][0]>0) # --------------------------- Seems like medial axis is the only really good inverse skeleton\n",
        "\n",
        "\n"
      ]
    },
    {
      "cell_type": "code",
      "execution_count": null,
      "metadata": {},
      "outputs": [],
      "source": [
        "#overlay boundary and one inverse skeleton image\n",
        "\n",
        "image1 = e_d_image\n",
        "\n",
        "image2 = (lotsa_inverse_skeletons[3][0]>0)*255\n",
        "show_image(image1)\n",
        "\n",
        "show_image(image2)\n",
        "\n",
        "make_negative_1 = False\n",
        "make_negative_2 = True\n",
        "\n",
        "new_image = overlay_images (image1,image2,make_negative_1, make_negative_2)\n",
        "\n",
        "show_image(new_image)\n",
        "\n",
        "\n",
        "\n"
      ]
    },
    {
      "cell_type": "code",
      "execution_count": null,
      "metadata": {},
      "outputs": [],
      "source": [
        "#combine boundary and skeleton images to create full boundary image \n",
        "\n",
        "image1 = new_image\n",
        "\n",
        "image2 = trimmed_skeletons[3]\n",
        "\n",
        "show_image(image1)\n",
        "\n",
        "show_image(image2)\n",
        "\n",
        "make_negative_1 = False\n",
        "make_negative_2 = True\n",
        "\n",
        "new_image = overlay_images (image1,image2,make_negative_1, make_negative_2)\n",
        "\n",
        "show_image(new_image)\n",
        "\n",
        "skel_name = 'zig_zag_skeleton.png'\n",
        "bound_name = 'overlay_boundary_image.png'\n",
        "\n",
        "cv2.imwrite( skel_name, trimmed_skeletons[3] )\n",
        "cv2.imwrite( bound_name, new_image*255 )\n"
      ]
    },
    {
      "cell_type": "code",
      "execution_count": null,
      "metadata": {},
      "outputs": [],
      "source": [
        "#create full zig zag, this time with modified zig zag that prevents overlapping paths\n",
        "\n",
        "path_to_skeleton = skel_name\n",
        "\n",
        "path_to_boundary_image = bound_name\n",
        "\n",
        "zig_zag_width = 8\n",
        "\n",
        "image = zig_zag_full_image_2 ( path_to_skeleton, path_to_boundary_image, zig_zag_width) \n",
        "\n",
        "show_image(image)\n",
        "\n",
        "zig_zag_name = 'zigzag_full.png'\n",
        "\n",
        "cv2.imwrite(zig_zag_name, image )"
      ]
    },
    {
      "cell_type": "code",
      "execution_count": null,
      "metadata": {},
      "outputs": [],
      "source": [
        "#create csv file from zig zag full\n",
        "\n",
        "# option = 1 \n",
        "# data = r'./write_chinese_post_man_csv_test/zigzag_full.png'\n",
        "# name = 'test.csv'\n",
        "\n",
        "option = 2\n",
        "data = zig_zag_name\n",
        "data = open_image(data) # for option 2 \n",
        "name = 'test.csv'\n",
        "\n",
        "path_to_csv = write_chinese_post_man_csv(data, option, name)\n",
        "\n",
        "print(path_to_csv)"
      ]
    },
    {
      "cell_type": "code",
      "execution_count": null,
      "metadata": {},
      "outputs": [],
      "source": [
        "#use chinese post man to calculate most efficient route covering all edges \n",
        "#HEADS UP : you will need to make a custom config file for each map you apply this to , as well as pick some arbitrary launch point (jakes landing )\n",
        "\n",
        "# PRAISE BE TO https://github.com/brooksandrew/postman_problems#python where i got the bones for this code from\n",
        "\n",
        "\n",
        "#inputs\n",
        "path_to_skel = zig_zag_name\n",
        "config_file  = r\"/home/jasonraiti/Documents/GitHub/USC_REU/Project_Files/ibrahim_find_starting_node_config.wf\" #config file \n",
        "launch_point = (34.02675, -81.2253)\n",
        "\n",
        "\n",
        "circuit, graph = chinese_post_man(path_to_skel,config_file,launch_point, path_to_csv)\n",
        "\n",
        "# print solution route\n",
        "for e in circuit:\n",
        "    print(e)\n",
        "\n",
        "# print solution summary stats\n",
        "for k, v in calculate_postman_solution_stats(circuit).items():\n",
        "    print(k, v)\n"
      ]
    },
    {
      "cell_type": "code",
      "execution_count": 19,
      "metadata": {},
      "outputs": [
        {
          "name": "stdout",
          "output_type": "stream",
          "text": [
            "<class 'tuple'>\n",
            "123\n",
            "122\n"
          ]
        }
      ],
      "source": [
        "#parsing data from cpm \n",
        "for e in circuit:\n",
        "    print(type(e))\n",
        "    print(e[0])\n",
        "    print(e[1])\n",
        "    break"
      ]
    },
    {
      "cell_type": "code",
      "execution_count": 33,
      "metadata": {},
      "outputs": [
        {
          "name": "stdout",
          "output_type": "stream",
          "text": [
            "found image at :  zigzag_full.png\n",
            "\n",
            "skeleton converted to graph\n",
            "\n",
            "[255. 285.]\n",
            "[256.25 275.25]\n",
            "(34.02483136645962, -81.22806209726444)\n",
            "(34.02554254658385, -81.22797598784194)\n",
            "\n",
            "from generate_waypoints: be sure that waypoint 1 and 2 are adjacent aka have either same longitude or latitude \n",
            "\n",
            "found image at :  zigzag_full.png\n",
            "\n",
            "skeleton converted to graph\n",
            "\n",
            "\n",
            "\n",
            "total distance of graph at  zigzag_full.png  \n",
            "\n",
            "(in meters) is 88220.37016041715\n"
          ]
        },
        {
          "data": {
            "text/plain": [
              "88220.37016041715"
            ]
          },
          "execution_count": 33,
          "metadata": {},
          "output_type": "execute_result"
        }
      ],
      "source": [
        "#calulate the distance in meters of your graph \n",
        "\n",
        "from get_graph_distance import *\n",
        "\n",
        "waypoint1 = int(e[0])\n",
        "waypoint2 = int(e[1])\n",
        "\n",
        "graph = skeleton_to_graph(zig_zag_name)\n",
        "nodes = graph.nodes()\n",
        "\n",
        "print ( nodes[waypoint1]['o'] )\n",
        "x = int(nodes[waypoint1]['o'][0])\n",
        "y = int(nodes[waypoint1]['o'][1])\n",
        "waypoint1 = convert_xy_to_latlong(x, y, config_file)\n",
        "# waypoint1 = convert_xy_to_latlong(x, y, 'ibrahim_find_starting_node_config.wf')\n",
        "\n",
        "\n",
        "\n",
        "print ( nodes[waypoint2]['o'] )\n",
        "x = int(nodes[waypoint2]['o'][0])\n",
        "y = int(nodes[waypoint2]['o'][1])\n",
        "waypoint2 = convert_xy_to_latlong(x, y, config_file)\n",
        "# waypoint2 = convert_xy_to_latlong(x, y, 'ibrahim_find_starting_node_config.wf')\n",
        "\n",
        "print(waypoint1)\n",
        "print(waypoint2)\n",
        "path = zig_zag_name\n",
        "\n",
        "get_graph_distance(waypoint1,waypoint2,path)\n"
      ]
    },
    {
      "cell_type": "code",
      "execution_count": null,
      "metadata": {},
      "outputs": [],
      "source": [
        "# next pipeline make the thing so it is only like 10km in length "
      ]
    },
    {
      "cell_type": "code",
      "execution_count": null,
      "metadata": {},
      "outputs": [],
      "source": [
        "#convert coordinates to waypoints \n",
        "\n"
      ]
    },
    {
      "cell_type": "code",
      "execution_count": null,
      "metadata": {},
      "outputs": [],
      "source": [
        "#try and implement rural post man "
      ]
    }
  ],
  "metadata": {
    "interpreter": {
      "hash": "4a83a789b37a71bb416df83b70e7c64d3e14da3f8e2f22be6936c2e4ffec8d9a"
    },
    "kernelspec": {
      "display_name": "Python 3.8.5 64-bit ('3.8.5': pyenv)",
      "name": "python3"
    },
    "language_info": {
      "codemirror_mode": {
        "name": "ipython",
        "version": 3
      },
      "file_extension": ".py",
      "mimetype": "text/x-python",
      "name": "python",
      "nbconvert_exporter": "python",
      "pygments_lexer": "ipython3",
      "version": "3.8.5"
    }
  },
  "nbformat": 4,
  "nbformat_minor": 0
}