{
  "cells": [
    {
      "cell_type": "code",
      "execution_count": 1,
      "metadata": {
        "collapsed": false
      },
      "outputs": [],
      "source": [
        "%matplotlib inline"
      ]
    },
    {
      "cell_type": "code",
      "execution_count": 2,
      "metadata": {},
      "outputs": [],
      "source": [
        "import numpy as np\n",
        "\n",
        "import sys\n",
        "sys.path.append(\"/home/jasonraiti/Documents/GitHub/USC_REU/Project_Files/Jasons_Functions/\")\n",
        "\n",
        "from skeleton_to_graph_from_array import * \n",
        "\n",
        "import matplotlib.pyplot as plt\n",
        "\n",
        "from open_or_show_image import * \n",
        "\n",
        "from erosion_dilation_from_array import * \n",
        "\n",
        "import networkx as nx"
      ]
    },
    {
      "cell_type": "code",
      "execution_count": 3,
      "metadata": {},
      "outputs": [],
      "source": [
        "\"\"\"Simple travelling salesman problem between cities.\"\"\"\n",
        "\n",
        "from ortools.constraint_solver import routing_enums_pb2\n",
        "from ortools.constraint_solver import pywrapcp\n"
      ]
    },
    {
      "cell_type": "code",
      "execution_count": 4,
      "metadata": {},
      "outputs": [],
      "source": [
        "\n",
        "def create_data_model(listOflist,depot_number):\n",
        "    \"\"\"Stores the data for the problem.\"\"\"\n",
        "    data = {}\n",
        "    \n",
        "    # data['distance_matrix'] = [\n",
        "    #     [0, 123456789, 123456789, 1018, 1631, 1374, 2408, 213, 2571, 875, 1420, 2145, 1972],\n",
        "    #     [123456789, 0, 1745, 1524, 831, 1240, 959, 2596, 403, 1589, 1374, 357, 579],\n",
        "    #     [123456789, 1745, 0, 355, 920, 803, 1737, 851, 1858, 262, 940, 1453, 1260],\n",
        "    #     [1018, 1524, 355, 0, 700, 862, 1395, 1123, 1584, 466, 1056, 1280, 987],\n",
        "    #     [1631, 831, 920, 700, 0, 663, 1021, 1769, 949, 796, 879, 586, 371],\n",
        "    #     [1374, 1240, 803, 862, 663, 0, 1681, 1551, 1765, 547, 225, 887, 999],\n",
        "    #     [2408, 959, 1737, 1395, 1021, 1681, 0, 2493, 678, 1724, 1891, 1114, 701],\n",
        "    #     [213, 2596, 851, 1123, 1769, 1551, 2493, 0, 2699, 1038, 1605, 2300, 2099],\n",
        "    #     [2571, 403, 1858, 1584, 949, 1765, 678, 2699, 0, 1744, 1645, 653, 600],\n",
        "    #     [875, 1589, 262, 466, 796, 547, 1724, 1038, 1744, 0, 679, 1272, 1162],\n",
        "    #     [1420, 1374, 940, 1056, 879, 225, 1891, 1605, 1645, 679, 0, 1017, 1200],\n",
        "    #     [2145, 357, 1453, 1280, 586, 887, 1114, 2300, 653, 1272, 1017, 0, 504],\n",
        "    #     [1972, 579, 1260, 987, 371, 999, 701, 2099, 600, 1162, 1200, 504, 0],\n",
        "    # ]  # yapf: disable\n",
        "    \n",
        "    data['distance_matrix'] = listOflist\n",
        "    data['num_vehicles'] = 1\n",
        "    data['depot'] = depot_number\n",
        "    return data\n",
        "    # Objective: 7293 miles\n",
        "    # Route for vehicle 0:\n",
        "    #  0 -> 7 -> 2 -> 3 -> 4 -> 12 -> 6 -> 8 -> 1 -> 11 -> 10 -> 5 -> 9 -> 0\n",
        "\n",
        "\n",
        "def print_solution(manager, routing, solution):\n",
        "    \"\"\"Prints solution on console.\"\"\"\n",
        "    print('Objective: {} miles'.format(solution.ObjectiveValue()))\n",
        "    index = routing.Start(0)\n",
        "    plan_output = 'Route for vehicle 0:\\n'\n",
        "    route_distance = 0\n",
        "    while not routing.IsEnd(index):\n",
        "        plan_output += ' {} ->'.format(manager.IndexToNode(index))\n",
        "        previous_index = index\n",
        "        index = solution.Value(routing.NextVar(index))\n",
        "        route_distance += routing.GetArcCostForVehicle(previous_index, index, 0)\n",
        "    plan_output += ' {}\\n'.format(manager.IndexToNode(index))\n",
        "    print(plan_output)\n",
        "    plan_output += 'Route distance: {}miles\\n'.format(route_distance)\n",
        "\n",
        "\n",
        "def main(listOflist, depot_number):\n",
        "    \"\"\"Entry point of the program.\"\"\"\n",
        "    # Instantiate the data problem.\n",
        "    data = create_data_model(listOflist,depot_number)\n",
        "\n",
        "    # Create the routing index manager.\n",
        "    manager = pywrapcp.RoutingIndexManager(len(data['distance_matrix']),\n",
        "                                           data['num_vehicles'], data['depot'])\n",
        "\n",
        "    # Create Routing Model.\n",
        "    routing = pywrapcp.RoutingModel(manager)\n",
        "\n",
        "\n",
        "    def distance_callback(from_index, to_index):\n",
        "        \"\"\"Returns the distance between the two nodes.\"\"\"\n",
        "        # Convert from routing variable Index to distance matrix NodeIndex.\n",
        "        from_node = manager.IndexToNode(from_index)\n",
        "        to_node = manager.IndexToNode(to_index)\n",
        "        return data['distance_matrix'][from_node][to_node]\n",
        "\n",
        "    transit_callback_index = routing.RegisterTransitCallback(distance_callback)\n",
        "\n",
        "    # Define cost of each arc.\n",
        "    routing.SetArcCostEvaluatorOfAllVehicles(transit_callback_index)\n",
        "\n",
        "    # Setting first solution heuristic.ter\n",
        "    search_parameters = pywrapcp.DefaultRoutingSearchParameters()\n",
        "    search_parameters.first_solution_strategy = (\n",
        "        routing_enums_pb2.FirstSolutionStrategy.AUTOMATIC)\n",
        "\n",
        "    # Solve the problem.\n",
        "    solution = routing.SolveWithParameters(search_parameters)\n",
        "\n",
        "    # Print solution on console.\n",
        "    if solution:\n",
        "        print_solution(manager, routing, solution)\n"
      ]
    },
    {
      "cell_type": "code",
      "execution_count": 5,
      "metadata": {},
      "outputs": [
        {
          "name": "stdout",
          "output_type": "stream",
          "text": [
            "found image at :  ../traveling_salesman_test/zigzag_full.png\n",
            "\n",
            "skeleton converted to graph\n",
            "\n",
            "  (0, 149)\t65.01219330881975\n",
            "162\n",
            "162\n"
          ]
        }
      ],
      "source": [
        "# start dialation and erosion \n",
        "\n",
        "# path to image\n",
        "path = r'../traveling_salesman_test/zigzag_full.png'\n",
        "image = open_image(path)\n",
        "\n",
        "graph = skeleton_to_graph_from_array(image)\n",
        "\n",
        "# print(type(graph)) #<class 'networkx.classes.graph.Graph'>\n",
        "\n",
        "A = nx.adjacency_matrix(graph)\n",
        "\n",
        "ndarray = A.toarray()\n",
        "listOflist = ndarray.tolist()\n",
        "print(A[161])\n",
        "# print(listOflist[0][-1])\n",
        "print(len(listOflist))\n",
        "print(len(listOflist[1]))\n"
      ]
    },
    {
      "cell_type": "code",
      "execution_count": 6,
      "metadata": {},
      "outputs": [],
      "source": [
        "\n",
        "for i in range(0,len(listOflist)):\n",
        "    not_all_zeros = any(np.array(listOflist[i]))\n",
        "    if not_all_zeros != True:\n",
        "        print(\"something is wrong at point :\", i )\n",
        "        \n",
        "    for j in range(0,len(listOflist[i])):\n",
        "        \n",
        "        \n",
        "        if listOflist[i][j] == 0 :\n",
        "            if i != j:\n",
        "                listOflist[i][j] = 10**10#BIG ASS NUMBER , but preserve diagonal 0s \n",
        "\n",
        "# print(listOflist)ter"
      ]
    },
    {
      "cell_type": "code",
      "execution_count": 7,
      "metadata": {},
      "outputs": [
        {
          "name": "stdout",
          "output_type": "stream",
          "text": [
            "Objective: 380000002877 miles\n",
            "Route for vehicle 0:\n",
            " 123 -> 122 -> 150 -> 156 -> 140 -> 135 -> 161 -> 127 -> 126 -> 118 -> 112 -> 113 -> 95 -> 96 -> 115 -> 109 -> 106 -> 104 -> 120 -> 119 -> 103 -> 114 -> 110 -> 131 -> 146 -> 151 -> 152 -> 148 -> 130 -> 132 -> 128 -> 134 -> 153 -> 143 -> 141 -> 159 -> 158 -> 133 -> 138 -> 155 -> 142 -> 139 -> 157 -> 154 -> 160 -> 147 -> 149 -> 145 -> 144 -> 137 -> 136 -> 125 -> 124 -> 121 -> 129 -> 116 -> 117 -> 111 -> 98 -> 108 -> 90 -> 94 -> 75 -> 63 -> 74 -> 85 -> 97 -> 105 -> 107 -> 82 -> 79 -> 77 -> 100 -> 102 -> 101 -> 99 -> 93 -> 88 -> 62 -> 59 -> 92 -> 87 -> 65 -> 61 -> 91 -> 89 -> 69 -> 73 -> 86 -> 60 -> 58 -> 84 -> 80 -> 66 -> 64 -> 83 -> 81 -> 71 -> 67 -> 78 -> 70 -> 76 -> 72 -> 68 -> 2 -> 13 -> 37 -> 15 -> 12 -> 1 -> 48 -> 46 -> 39 -> 10 -> 20 -> 24 -> 27 -> 6 -> 23 -> 30 -> 32 -> 33 -> 34 -> 35 -> 36 -> 57 -> 45 -> 43 -> 41 -> 40 -> 56 -> 54 -> 31 -> 28 -> 21 -> 7 -> 55 -> 52 -> 29 -> 25 -> 22 -> 8 -> 53 -> 50 -> 26 -> 17 -> 9 -> 51 -> 47 -> 19 -> 11 -> 0 -> 49 -> 44 -> 42 -> 4 -> 16 -> 38 -> 18 -> 5 -> 14 -> 3 -> 123\n",
            "\n"
          ]
        }
      ],
      "source": [
        "\n",
        "if __name__ == '__main__':\n",
        "    main(listOflist,123)\n"
      ]
    },
    {
      "cell_type": "code",
      "execution_count": null,
      "metadata": {},
      "outputs": [],
      "source": []
    }
  ],
  "metadata": {
    "interpreter": {
      "hash": "4a83a789b37a71bb416df83b70e7c64d3e14da3f8e2f22be6936c2e4ffec8d9a"
    },
    "kernelspec": {
      "display_name": "Python 3.8.5 64-bit ('3.8.5': pyenv)",
      "name": "python3"
    },
    "language_info": {
      "codemirror_mode": {
        "name": "ipython",
        "version": 3
      },
      "file_extension": ".py",
      "mimetype": "text/x-python",
      "name": "python",
      "nbconvert_exporter": "python",
      "pygments_lexer": "ipython3",
      "version": "3.8.5"
    }
  },
  "nbformat": 4,
  "nbformat_minor": 0
}