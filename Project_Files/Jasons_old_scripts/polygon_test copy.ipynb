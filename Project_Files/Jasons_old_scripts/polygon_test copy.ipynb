{
  "cells": [
    {
      "cell_type": "code",
      "execution_count": 11,
      "metadata": {
        "collapsed": false
      },
      "outputs": [],
      "source": [
        "%matplotlib inline"
      ]
    },
    {
      "cell_type": "code",
      "execution_count": 12,
      "metadata": {},
      "outputs": [],
      "source": [
        "# Inputs:\n",
        "# outputs:"
      ]
    },
    {
      "cell_type": "code",
      "execution_count": 13,
      "metadata": {},
      "outputs": [],
      "source": [
        "import numpy as np\n",
        "import cv2\n",
        "\n",
        "import sys\n",
        "sys.path.append(\"/home/jasonraiti/Documents/GitHub/USC_REU/Project_Files/Jasons_Functions/\")\n",
        "\n",
        "from open_or_show_image import *\n",
        "\n",
        "from trim_edges import *\n",
        "\n",
        "from erosion_dilation import * \n",
        "\n",
        "#-------------------------------\n",
        "from matplotlib.path import Path\n"
      ]
    },
    {
      "cell_type": "code",
      "execution_count": 14,
      "metadata": {},
      "outputs": [
        {
          "output_type": "stream",
          "name": "stdout",
          "text": [
            "found image at :  ./MAPS/Map_originals/Lake_Murray_Map_Originals/e_d_image4.png\n"
          ]
        }
      ],
      "source": [
        "# path to images\n",
        "path1 = r'./MAPS/Map_originals/Lake_Murray_Map_Originals/e_d_image4.png'\n",
        "\n",
        "#original image\n",
        "image = open_image(path1)"
      ]
    },
    {
      "cell_type": "code",
      "execution_count": 15,
      "metadata": {},
      "outputs": [],
      "source": [
        "\n",
        "if image.shape[0] >= image.shape[1]:\n",
        "    big_dim = image.shape[0]\n",
        "else:\n",
        "    big_dim = image.shape[1]"
      ]
    },
    {
      "cell_type": "code",
      "execution_count": 16,
      "metadata": {},
      "outputs": [],
      "source": [
        "# from https://stackoverflow.com/questions/21339448/how-to-get-list-of-points-inside-a-polygon-in-python\n",
        "\n",
        "# tupVerts=[(86, 52), (85, 52), (81, 53), (80, 52), (79, 48), (81, 49), (86, 53),\n",
        "#  (85, 51), (82, 54), (84, 54), (83, 49), (81, 52), (80, 50), (81, 48),\n",
        "#  (85, 50), (86, 54), (85, 54), (80, 48), (79, 50), (85, 49), (80, 51),\n",
        "#  (85, 53), (82, 49), (83, 54), (82, 53), (84, 49), (79, 49)]\n",
        "\n",
        "\n",
        "tupVerts=[(86, 200), (79, 49) , (0,0), (100,0)]\n",
        "\n",
        "\n",
        "x, y = np.meshgrid(np.arange(big_dim), np.arange(big_dim)) # make a canvas with coordinates\n",
        "x, y = x.flatten(), y.flatten()\n",
        "points = np.vstack((x,y)).T \n",
        "\n",
        "p = Path(tupVerts) # make a polygon\n",
        "grid = p.contains_points(points)\n",
        "mask = grid.reshape(big_dim,big_dim) # now you have a mask with points inside a polygon\n"
      ]
    },
    {
      "cell_type": "code",
      "execution_count": 17,
      "metadata": {},
      "outputs": [
        {
          "output_type": "display_data",
          "data": {
            "text/plain": "<Figure size 432x288 with 1 Axes>",
            "image/svg+xml": "<?xml version=\"1.0\" encoding=\"utf-8\" standalone=\"no\"?>\n<!DOCTYPE svg PUBLIC \"-//W3C//DTD SVG 1.1//EN\"\n  \"http://www.w3.org/Graphics/SVG/1.1/DTD/svg11.dtd\">\n<svg height=\"252.047567pt\" version=\"1.1\" viewBox=\"0 0 266.122367 252.047567\" width=\"266.122367pt\" xmlns=\"http://www.w3.org/2000/svg\" xmlns:xlink=\"http://www.w3.org/1999/xlink\">\n <metadata>\n  <rdf:RDF xmlns:cc=\"http://creativecommons.org/ns#\" xmlns:dc=\"http://purl.org/dc/elements/1.1/\" xmlns:rdf=\"http://www.w3.org/1999/02/22-rdf-syntax-ns#\">\n   <cc:Work>\n    <dc:type rdf:resource=\"http://purl.org/dc/dcmitype/StillImage\"/>\n    <dc:date>2021-07-20T16:59:26.427887</dc:date>\n    <dc:format>image/svg+xml</dc:format>\n    <dc:creator>\n     <cc:Agent>\n      <dc:title>Matplotlib v3.4.2, https://matplotlib.org/</dc:title>\n     </cc:Agent>\n    </dc:creator>\n   </cc:Work>\n  </rdf:RDF>\n </metadata>\n <defs>\n  <style type=\"text/css\">*{stroke-linecap:butt;stroke-linejoin:round;}</style>\n </defs>\n <g id=\"figure_1\">\n  <g id=\"patch_1\">\n   <path d=\"M 0 252.047567 \nL 266.122367 252.047567 \nL 266.122367 0 \nL 0 0 \nz\n\" style=\"fill:none;\"/>\n  </g>\n  <g id=\"axes_1\">\n   <g id=\"patch_2\">\n    <path d=\"M 33.2875 228.169442 \nL 250.7275 228.169442 \nL 250.7275 10.729442 \nL 33.2875 10.729442 \nz\n\" style=\"fill:#ffffff;\"/>\n   </g>\n   <g clip-path=\"url(#p57ed2c9060)\">\n    <image height=\"218\" id=\"image5131325ed3\" transform=\"scale(1 -1)translate(0 -218)\" width=\"218\" x=\"33.2875\" xlink:href=\"data:image/png;base64,\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\" y=\"-10.169442\"/>\n   </g>\n   <g id=\"matplotlib.axis_1\">\n    <g id=\"xtick_1\">\n     <g id=\"line2d_1\">\n      <defs>\n       <path d=\"M 0 0 \nL 0 3.5 \n\" id=\"mad3c9ca1a9\" style=\"stroke:#000000;stroke-width:0.8;\"/>\n      </defs>\n      <g>\n       <use style=\"stroke:#000000;stroke-width:0.8;\" x=\"33.557277\" xlink:href=\"#mad3c9ca1a9\" y=\"228.169442\"/>\n      </g>\n     </g>\n     <g id=\"text_1\">\n      <!-- 0 -->\n      <g transform=\"translate(30.376027 242.76788)scale(0.1 -0.1)\">\n       <defs>\n        <path d=\"M 2034 4250 \nQ 1547 4250 1301 3770 \nQ 1056 3291 1056 2328 \nQ 1056 1369 1301 889 \nQ 1547 409 2034 409 \nQ 2525 409 2770 889 \nQ 3016 1369 3016 2328 \nQ 3016 3291 2770 3770 \nQ 2525 4250 2034 4250 \nz\nM 2034 4750 \nQ 2819 4750 3233 4129 \nQ 3647 3509 3647 2328 \nQ 3647 1150 3233 529 \nQ 2819 -91 2034 -91 \nQ 1250 -91 836 529 \nQ 422 1150 422 2328 \nQ 422 3509 836 4129 \nQ 1250 4750 2034 4750 \nz\n\" id=\"DejaVuSans-30\" transform=\"scale(0.015625)\"/>\n       </defs>\n       <use xlink:href=\"#DejaVuSans-30\"/>\n      </g>\n     </g>\n    </g>\n    <g id=\"xtick_2\">\n     <g id=\"line2d_2\">\n      <g>\n       <use style=\"stroke:#000000;stroke-width:0.8;\" x=\"87.512612\" xlink:href=\"#mad3c9ca1a9\" y=\"228.169442\"/>\n      </g>\n     </g>\n     <g id=\"text_2\">\n      <!-- 100 -->\n      <g transform=\"translate(77.968862 242.76788)scale(0.1 -0.1)\">\n       <defs>\n        <path d=\"M 794 531 \nL 1825 531 \nL 1825 4091 \nL 703 3866 \nL 703 4441 \nL 1819 4666 \nL 2450 4666 \nL 2450 531 \nL 3481 531 \nL 3481 0 \nL 794 0 \nL 794 531 \nz\n\" id=\"DejaVuSans-31\" transform=\"scale(0.015625)\"/>\n       </defs>\n       <use xlink:href=\"#DejaVuSans-31\"/>\n       <use x=\"63.623047\" xlink:href=\"#DejaVuSans-30\"/>\n       <use x=\"127.246094\" xlink:href=\"#DejaVuSans-30\"/>\n      </g>\n     </g>\n    </g>\n    <g id=\"xtick_3\">\n     <g id=\"line2d_3\">\n      <g>\n       <use style=\"stroke:#000000;stroke-width:0.8;\" x=\"141.467947\" xlink:href=\"#mad3c9ca1a9\" y=\"228.169442\"/>\n      </g>\n     </g>\n     <g id=\"text_3\">\n      <!-- 200 -->\n      <g transform=\"translate(131.924197 242.76788)scale(0.1 -0.1)\">\n       <defs>\n        <path d=\"M 1228 531 \nL 3431 531 \nL 3431 0 \nL 469 0 \nL 469 531 \nQ 828 903 1448 1529 \nQ 2069 2156 2228 2338 \nQ 2531 2678 2651 2914 \nQ 2772 3150 2772 3378 \nQ 2772 3750 2511 3984 \nQ 2250 4219 1831 4219 \nQ 1534 4219 1204 4116 \nQ 875 4013 500 3803 \nL 500 4441 \nQ 881 4594 1212 4672 \nQ 1544 4750 1819 4750 \nQ 2544 4750 2975 4387 \nQ 3406 4025 3406 3419 \nQ 3406 3131 3298 2873 \nQ 3191 2616 2906 2266 \nQ 2828 2175 2409 1742 \nQ 1991 1309 1228 531 \nz\n\" id=\"DejaVuSans-32\" transform=\"scale(0.015625)\"/>\n       </defs>\n       <use xlink:href=\"#DejaVuSans-32\"/>\n       <use x=\"63.623047\" xlink:href=\"#DejaVuSans-30\"/>\n       <use x=\"127.246094\" xlink:href=\"#DejaVuSans-30\"/>\n      </g>\n     </g>\n    </g>\n    <g id=\"xtick_4\">\n     <g id=\"line2d_4\">\n      <g>\n       <use style=\"stroke:#000000;stroke-width:0.8;\" x=\"195.423282\" xlink:href=\"#mad3c9ca1a9\" y=\"228.169442\"/>\n      </g>\n     </g>\n     <g id=\"text_4\">\n      <!-- 300 -->\n      <g transform=\"translate(185.879532 242.76788)scale(0.1 -0.1)\">\n       <defs>\n        <path d=\"M 2597 2516 \nQ 3050 2419 3304 2112 \nQ 3559 1806 3559 1356 \nQ 3559 666 3084 287 \nQ 2609 -91 1734 -91 \nQ 1441 -91 1130 -33 \nQ 819 25 488 141 \nL 488 750 \nQ 750 597 1062 519 \nQ 1375 441 1716 441 \nQ 2309 441 2620 675 \nQ 2931 909 2931 1356 \nQ 2931 1769 2642 2001 \nQ 2353 2234 1838 2234 \nL 1294 2234 \nL 1294 2753 \nL 1863 2753 \nQ 2328 2753 2575 2939 \nQ 2822 3125 2822 3475 \nQ 2822 3834 2567 4026 \nQ 2313 4219 1838 4219 \nQ 1578 4219 1281 4162 \nQ 984 4106 628 3988 \nL 628 4550 \nQ 988 4650 1302 4700 \nQ 1616 4750 1894 4750 \nQ 2613 4750 3031 4423 \nQ 3450 4097 3450 3541 \nQ 3450 3153 3228 2886 \nQ 3006 2619 2597 2516 \nz\n\" id=\"DejaVuSans-33\" transform=\"scale(0.015625)\"/>\n       </defs>\n       <use xlink:href=\"#DejaVuSans-33\"/>\n       <use x=\"63.623047\" xlink:href=\"#DejaVuSans-30\"/>\n       <use x=\"127.246094\" xlink:href=\"#DejaVuSans-30\"/>\n      </g>\n     </g>\n    </g>\n    <g id=\"xtick_5\">\n     <g id=\"line2d_5\">\n      <g>\n       <use style=\"stroke:#000000;stroke-width:0.8;\" x=\"249.378617\" xlink:href=\"#mad3c9ca1a9\" y=\"228.169442\"/>\n      </g>\n     </g>\n     <g id=\"text_5\">\n      <!-- 400 -->\n      <g transform=\"translate(239.834867 242.76788)scale(0.1 -0.1)\">\n       <defs>\n        <path d=\"M 2419 4116 \nL 825 1625 \nL 2419 1625 \nL 2419 4116 \nz\nM 2253 4666 \nL 3047 4666 \nL 3047 1625 \nL 3713 1625 \nL 3713 1100 \nL 3047 1100 \nL 3047 0 \nL 2419 0 \nL 2419 1100 \nL 313 1100 \nL 313 1709 \nL 2253 4666 \nz\n\" id=\"DejaVuSans-34\" transform=\"scale(0.015625)\"/>\n       </defs>\n       <use xlink:href=\"#DejaVuSans-34\"/>\n       <use x=\"63.623047\" xlink:href=\"#DejaVuSans-30\"/>\n       <use x=\"127.246094\" xlink:href=\"#DejaVuSans-30\"/>\n      </g>\n     </g>\n    </g>\n   </g>\n   <g id=\"matplotlib.axis_2\">\n    <g id=\"ytick_1\">\n     <g id=\"line2d_6\">\n      <defs>\n       <path d=\"M 0 0 \nL -3.5 0 \n\" id=\"m17df1e5560\" style=\"stroke:#000000;stroke-width:0.8;\"/>\n      </defs>\n      <g>\n       <use style=\"stroke:#000000;stroke-width:0.8;\" x=\"33.2875\" xlink:href=\"#m17df1e5560\" y=\"10.999219\"/>\n      </g>\n     </g>\n     <g id=\"text_6\">\n      <!-- 0 -->\n      <g transform=\"translate(19.925 14.798437)scale(0.1 -0.1)\">\n       <use xlink:href=\"#DejaVuSans-30\"/>\n      </g>\n     </g>\n    </g>\n    <g id=\"ytick_2\">\n     <g id=\"line2d_7\">\n      <g>\n       <use style=\"stroke:#000000;stroke-width:0.8;\" x=\"33.2875\" xlink:href=\"#m17df1e5560\" y=\"37.976886\"/>\n      </g>\n     </g>\n     <g id=\"text_7\">\n      <!-- 50 -->\n      <g transform=\"translate(13.5625 41.776105)scale(0.1 -0.1)\">\n       <defs>\n        <path d=\"M 691 4666 \nL 3169 4666 \nL 3169 4134 \nL 1269 4134 \nL 1269 2991 \nQ 1406 3038 1543 3061 \nQ 1681 3084 1819 3084 \nQ 2600 3084 3056 2656 \nQ 3513 2228 3513 1497 \nQ 3513 744 3044 326 \nQ 2575 -91 1722 -91 \nQ 1428 -91 1123 -41 \nQ 819 9 494 109 \nL 494 744 \nQ 775 591 1075 516 \nQ 1375 441 1709 441 \nQ 2250 441 2565 725 \nQ 2881 1009 2881 1497 \nQ 2881 1984 2565 2268 \nQ 2250 2553 1709 2553 \nQ 1456 2553 1204 2497 \nQ 953 2441 691 2322 \nL 691 4666 \nz\n\" id=\"DejaVuSans-35\" transform=\"scale(0.015625)\"/>\n       </defs>\n       <use xlink:href=\"#DejaVuSans-35\"/>\n       <use x=\"63.623047\" xlink:href=\"#DejaVuSans-30\"/>\n      </g>\n     </g>\n    </g>\n    <g id=\"ytick_3\">\n     <g id=\"line2d_8\">\n      <g>\n       <use style=\"stroke:#000000;stroke-width:0.8;\" x=\"33.2875\" xlink:href=\"#m17df1e5560\" y=\"64.954554\"/>\n      </g>\n     </g>\n     <g id=\"text_8\">\n      <!-- 100 -->\n      <g transform=\"translate(7.2 68.753772)scale(0.1 -0.1)\">\n       <use xlink:href=\"#DejaVuSans-31\"/>\n       <use x=\"63.623047\" xlink:href=\"#DejaVuSans-30\"/>\n       <use x=\"127.246094\" xlink:href=\"#DejaVuSans-30\"/>\n      </g>\n     </g>\n    </g>\n    <g id=\"ytick_4\">\n     <g id=\"line2d_9\">\n      <g>\n       <use style=\"stroke:#000000;stroke-width:0.8;\" x=\"33.2875\" xlink:href=\"#m17df1e5560\" y=\"91.932221\"/>\n      </g>\n     </g>\n     <g id=\"text_9\">\n      <!-- 150 -->\n      <g transform=\"translate(7.2 95.73144)scale(0.1 -0.1)\">\n       <use xlink:href=\"#DejaVuSans-31\"/>\n       <use x=\"63.623047\" xlink:href=\"#DejaVuSans-35\"/>\n       <use x=\"127.246094\" xlink:href=\"#DejaVuSans-30\"/>\n      </g>\n     </g>\n    </g>\n    <g id=\"ytick_5\">\n     <g id=\"line2d_10\">\n      <g>\n       <use style=\"stroke:#000000;stroke-width:0.8;\" x=\"33.2875\" xlink:href=\"#m17df1e5560\" y=\"118.909889\"/>\n      </g>\n     </g>\n     <g id=\"text_10\">\n      <!-- 200 -->\n      <g transform=\"translate(7.2 122.709107)scale(0.1 -0.1)\">\n       <use xlink:href=\"#DejaVuSans-32\"/>\n       <use x=\"63.623047\" xlink:href=\"#DejaVuSans-30\"/>\n       <use x=\"127.246094\" xlink:href=\"#DejaVuSans-30\"/>\n      </g>\n     </g>\n    </g>\n    <g id=\"ytick_6\">\n     <g id=\"line2d_11\">\n      <g>\n       <use style=\"stroke:#000000;stroke-width:0.8;\" x=\"33.2875\" xlink:href=\"#m17df1e5560\" y=\"145.887556\"/>\n      </g>\n     </g>\n     <g id=\"text_11\">\n      <!-- 250 -->\n      <g transform=\"translate(7.2 149.686775)scale(0.1 -0.1)\">\n       <use xlink:href=\"#DejaVuSans-32\"/>\n       <use x=\"63.623047\" xlink:href=\"#DejaVuSans-35\"/>\n       <use x=\"127.246094\" xlink:href=\"#DejaVuSans-30\"/>\n      </g>\n     </g>\n    </g>\n    <g id=\"ytick_7\">\n     <g id=\"line2d_12\">\n      <g>\n       <use style=\"stroke:#000000;stroke-width:0.8;\" x=\"33.2875\" xlink:href=\"#m17df1e5560\" y=\"172.865224\"/>\n      </g>\n     </g>\n     <g id=\"text_12\">\n      <!-- 300 -->\n      <g transform=\"translate(7.2 176.664442)scale(0.1 -0.1)\">\n       <use xlink:href=\"#DejaVuSans-33\"/>\n       <use x=\"63.623047\" xlink:href=\"#DejaVuSans-30\"/>\n       <use x=\"127.246094\" xlink:href=\"#DejaVuSans-30\"/>\n      </g>\n     </g>\n    </g>\n    <g id=\"ytick_8\">\n     <g id=\"line2d_13\">\n      <g>\n       <use style=\"stroke:#000000;stroke-width:0.8;\" x=\"33.2875\" xlink:href=\"#m17df1e5560\" y=\"199.842891\"/>\n      </g>\n     </g>\n     <g id=\"text_13\">\n      <!-- 350 -->\n      <g transform=\"translate(7.2 203.64211)scale(0.1 -0.1)\">\n       <use xlink:href=\"#DejaVuSans-33\"/>\n       <use x=\"63.623047\" xlink:href=\"#DejaVuSans-35\"/>\n       <use x=\"127.246094\" xlink:href=\"#DejaVuSans-30\"/>\n      </g>\n     </g>\n    </g>\n    <g id=\"ytick_9\">\n     <g id=\"line2d_14\">\n      <g>\n       <use style=\"stroke:#000000;stroke-width:0.8;\" x=\"33.2875\" xlink:href=\"#m17df1e5560\" y=\"226.820559\"/>\n      </g>\n     </g>\n     <g id=\"text_14\">\n      <!-- 400 -->\n      <g transform=\"translate(7.2 230.619777)scale(0.1 -0.1)\">\n       <use xlink:href=\"#DejaVuSans-34\"/>\n       <use x=\"63.623047\" xlink:href=\"#DejaVuSans-30\"/>\n       <use x=\"127.246094\" xlink:href=\"#DejaVuSans-30\"/>\n      </g>\n     </g>\n    </g>\n   </g>\n   <g id=\"patch_3\">\n    <path d=\"M 33.2875 228.169442 \nL 33.2875 10.729442 \n\" style=\"fill:none;stroke:#000000;stroke-linecap:square;stroke-linejoin:miter;stroke-width:0.8;\"/>\n   </g>\n   <g id=\"patch_4\">\n    <path d=\"M 250.7275 228.169442 \nL 250.7275 10.729442 \n\" style=\"fill:none;stroke:#000000;stroke-linecap:square;stroke-linejoin:miter;stroke-width:0.8;\"/>\n   </g>\n   <g id=\"patch_5\">\n    <path d=\"M 33.2875 228.169442 \nL 250.7275 228.169442 \n\" style=\"fill:none;stroke:#000000;stroke-linecap:square;stroke-linejoin:miter;stroke-width:0.8;\"/>\n   </g>\n   <g id=\"patch_6\">\n    <path d=\"M 33.2875 10.729442 \nL 250.7275 10.729442 \n\" style=\"fill:none;stroke:#000000;stroke-linecap:square;stroke-linejoin:miter;stroke-width:0.8;\"/>\n   </g>\n  </g>\n </g>\n <defs>\n  <clipPath id=\"p57ed2c9060\">\n   <rect height=\"217.44\" width=\"217.44\" x=\"33.2875\" y=\"10.729442\"/>\n  </clipPath>\n </defs>\n</svg>\n",
            "image/png": "[encoded data removed]"
          },
          "metadata": {
            "needs_background": "light"
          }
        }
      ],
      "source": [
        "show_image(mask)"
      ]
    },
    {
      "cell_type": "code",
      "execution_count": 10,
      "metadata": {},
      "outputs": [
        {
          "output_type": "stream",
          "name": "stdout",
          "text": [
            "[False False False ... False False False]\n"
          ]
        }
      ],
      "source": [
        "print(grid)"
      ]
    },
    {
      "cell_type": "code",
      "execution_count": null,
      "metadata": {},
      "outputs": [],
      "source": []
    }
  ],
  "metadata": {
    "kernelspec": {
      "name": "python3",
      "display_name": "Python 3.8.5 64-bit ('3.8.5': pyenv)"
    },
    "language_info": {
      "codemirror_mode": {
        "name": "ipython",
        "version": 3
      },
      "file_extension": ".py",
      "mimetype": "text/x-python",
      "name": "python",
      "nbconvert_exporter": "python",
      "pygments_lexer": "ipython3",
      "version": "3.8.5"
    },
    "interpreter": {
      "hash": "4a83a789b37a71bb416df83b70e7c64d3e14da3f8e2f22be6936c2e4ffec8d9a"
    }
  },
  "nbformat": 4,
  "nbformat_minor": 0
}