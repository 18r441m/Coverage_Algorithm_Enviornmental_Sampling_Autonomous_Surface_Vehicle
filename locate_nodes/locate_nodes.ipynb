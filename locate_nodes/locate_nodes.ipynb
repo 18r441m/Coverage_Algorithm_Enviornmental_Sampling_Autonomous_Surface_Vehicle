{
  "cells": [
    {
      "cell_type": "code",
      "execution_count": 1,
      "metadata": {
        "collapsed": false
      },
      "outputs": [],
      "source": [
        "%matplotlib inline"
      ]
    },
    {
      "cell_type": "code",
      "execution_count": 11,
      "metadata": {
        "tags": []
      },
      "outputs": [
        {
          "output_type": "stream",
          "name": "stdout",
          "text": [
            "(403, 341)\nall good\nthis skeleton has 315.0 edge lines, 183 nodes, 60 endpoints, and 0 islands. \nthe skeleton is of length 3177 pixels.\nthe edgelines are of average length 9.314285714285715, .\n[[5, 118], [5, 119], [6, 79], [6, 118], [7, 78], [7, 79], [18, 115], [20, 49], [24, 107], [24, 108], [25, 107], [25, 211], [33, 28], [34, 27], [34, 28], [39, 222], [39, 223], [40, 45], [40, 222], [45, 106], [46, 105], [46, 106], [46, 107], [47, 43], [48, 42], [48, 43], [50, 225], [50, 271], [50, 272], [51, 272], [52, 228], [52, 229], [53, 229], [58, 212], [58, 213], [58, 214], [58, 234], [59, 213], [69, 137], [70, 137], [70, 138], [70, 188], [70, 244], [71, 243], [71, 244], [76, 259], [76, 260], [77, 260], [133, 98], [134, 97], [134, 98], [155, 241], [156, 241], [156, 242], [156, 309], [162, 113], [162, 133], [163, 132], [163, 133], [169, 108], [177, 216], [178, 216], [178, 217], [181, 214], [182, 214], [182, 215], [183, 313], [184, 312], [185, 240], [185, 241], [185, 242], [185, 311], [185, 312], [185, 313], [186, 241], [191, 194], [192, 194], [192, 195], [193, 313], [194, 249], [194, 250], [194, 251], [194, 312], [194, 313], [194, 314], [195, 250], [195, 313], [197, 251], [200, 76], [200, 77], [201, 77], [203, 178], [203, 179], [204, 178], [207, 275], [207, 276], [207, 314], [208, 275], [214, 278], [214, 279], [215, 278], [231, 17], [232, 77], [248, 5], [264, 249], [266, 249], [273, 51], [273, 250], [274, 186], [274, 250], [274, 251], [274, 261], [274, 262], [275, 186], [275, 187], [275, 262], [279, 191], [279, 192], [279, 242], [279, 243], [279, 244], [280, 191], [280, 243], [294, 44], [301, 34], [301, 35], [302, 35], [308, 148], [308, 149], [309, 149], [309, 205], [309, 206], [310, 142], [310, 143], [310, 144], [310, 205], [311, 143], [317, 140], [317, 141], [318, 141], [324, 18], [325, 17], [325, 18], [335, 258], [336, 139], [336, 258], [336, 259], [338, 270], [338, 271], [338, 272], [339, 271], [340, 251], [340, 252], [341, 252], [342, 214], [343, 213], [343, 214], [343, 215], [344, 214], [346, 227], [346, 228], [347, 227], [350, 138], [351, 138], [351, 139], [354, 159], [357, 158], [364, 199], [366, 196], [366, 197], [367, 197], [376, 189], [379, 183], [384, 177], [384, 178], [385, 176], [385, 177], [386, 163], [387, 163], [387, 164], [397, 146], [397, 147], [398, 147]]\n"
          ]
        }
      ],
      "source": [
        "\n",
        "import cv2 as cv\n",
        "\n",
        "#use thinned graph of corner\n",
        "#iterate over each pixel\n",
        "    #check neighboring pixels and count how many are \"marked\"\n",
        "        #if num neighbors > 2 or num neighbors < 2\n",
        "            #pixel = node\n",
        "        #else\n",
        "            #pixel = edge\n",
        "#read 3D rbg image as 2D greyscale nparray\n",
        "blobs = cv.imread(cv.samples.findFile(\"../Lake_Murray_Map_Skeletons/SE_corner_thinned.png\"),0) \n",
        "# last parameter 0 = greyscale 1 = color -1 = unchanged \n",
        "\n",
        "#convert data from int to np bool \n",
        "blobs = blobs > 127 \n",
        "#blobs is now a (540,960) 2 D array\n",
        "\n",
        "print(blobs.shape)\n",
        "\n",
        "ydim = blobs.shape[0] #num rows 540\n",
        "xdim = blobs.shape[1] #num columns 960\n",
        "\n",
        "\n",
        "# measure some skeleton metrics down here \n",
        "sum_local_neighbors = 0 #number of adjacent skeleton pixels \n",
        "sum_num_nodes = 0 #total number pixels that are of nodes of the skeleton\n",
        "sum_num_edges = 0 #total number pixels that are of edges ots \n",
        "sum_num_endpoints = 0 #total number of pixels that are end points of the skeleton\n",
        "sum_num_islands = 0 #total number of pixels that are isolated\n",
        "sum_points_length = 0 #total number of skeleton pixels aka length of skeleton\n",
        "\n",
        "total_num_edgelines = 0 #how many actual edges are there in the network\n",
        "\n",
        "#lets make a bunch of arrays storing : node locations, endpoint locations, edge locations,island locations  \n",
        "node_locations = []\n",
        "edge_locations = []\n",
        "endpoint_locations = []\n",
        "island_locations = []\n",
        "\n",
        "#here we are going to find the nodes and edges and endpoints\n",
        "\n",
        "for row in range(0,ydim): #iterate through rows \n",
        "    for col in range(0,xdim): #iterate through columns\n",
        "        \n",
        "        if blobs[row][col] == True: #if pixel is skeleton add 1 to length of skeleton\n",
        "            sum_points_length +=1\n",
        "            \n",
        "            #find the sum of the local neighbors included in the skeleton (including self): 1 = solo ,2= endpoint, 3 = edge , 4+ = node \n",
        "            for i in range(-1,2):\n",
        "                for j in range(-1,2):\n",
        "                    try: #this because there may be points on the edge of the picture\n",
        "                        sum_local_neighbors += int(blobs[row +i][col +j])\n",
        "                    except:\n",
        "                        pass\n",
        "            \n",
        "            #figure out num nodes endpoints and edges\n",
        "            if sum_local_neighbors >= 4: #if node\n",
        "                node_locations.append([row,col])\n",
        "                sum_num_nodes += 1\n",
        "                total_num_edgelines += sum_local_neighbors -1 #count connection points (-1 to remove self counting)\n",
        "            elif sum_local_neighbors == 3: # if edge\n",
        "                edge_locations.append([row,col])\n",
        "                sum_num_edges += 1\n",
        "            elif sum_local_neighbors == 2: # if endpoint\n",
        "                endpoint_locations.append([row,col])\n",
        "                sum_num_endpoints += 1\n",
        "                total_num_edgelines += sum_local_neighbors -1 #count connection points (-1 to remove self counting)\n",
        "            else: #if island \n",
        "                island_locations.append([row,col])\n",
        "                print(\"isolated point at \", blobs[row][col])\n",
        "                sum_num_islands +=1\n",
        "\n",
        "            #reset counter     \n",
        "            sum_local_neighbors = 0\n",
        "\n",
        "#error check\n",
        "if sum_num_nodes + sum_num_edges + sum_num_endpoints + sum_num_islands == sum_points_length:\n",
        "    print(\"all good\")\n",
        "else:\n",
        "    print(\"f*&!\")\n",
        "\n",
        "total_num_edgelines = total_num_edgelines / 2 #because each edge has two endpoints \n",
        "print(\"this skeleton has {0} edge lines, {1} nodes, {2} endpoints, and {3} islands. \\nthe skeleton is of length {4} pixels.\".format(total_num_edgelines , sum_num_nodes, sum_num_endpoints, sum_num_islands, sum_points_length))\n",
        "\n",
        "print(\"the edgelines are of average length {0}, .\".format( sum_num_edges / total_num_edgelines))\n",
        "\n",
        "print(node_locations)"
      ]
    }
  ],
  "metadata": {
    "kernelspec": {
      "name": "python3",
      "display_name": "Python 3.8.5 64-bit ('3.8.5': pyenv)"
    },
    "language_info": {
      "codemirror_mode": {
        "name": "ipython",
        "version": 3
      },
      "file_extension": ".py",
      "mimetype": "text/x-python",
      "name": "python",
      "nbconvert_exporter": "python",
      "pygments_lexer": "ipython3",
      "version": "3.8.5"
    },
    "interpreter": {
      "hash": "4a83a789b37a71bb416df83b70e7c64d3e14da3f8e2f22be6936c2e4ffec8d9a"
    }
  },
  "nbformat": 4,
  "nbformat_minor": 0
}